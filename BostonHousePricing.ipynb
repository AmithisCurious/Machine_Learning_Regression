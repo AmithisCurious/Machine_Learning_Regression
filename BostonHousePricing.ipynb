{
  "nbformat": 4,
  "nbformat_minor": 0,
  "metadata": {
    "colab": {
      "provenance": [],
      "authorship_tag": "ABX9TyMrUnZmSveGU81KcTPidu58",
      "include_colab_link": true
    },
    "kernelspec": {
      "name": "python3",
      "display_name": "Python 3"
    },
    "language_info": {
      "name": "python"
    }
  },
  "cells": [
    {
      "cell_type": "markdown",
      "metadata": {
        "id": "view-in-github",
        "colab_type": "text"
      },
      "source": [
        "<a href=\"https://colab.research.google.com/github/AmithisCurious/ShapeAI_Python_MAchine_Learning/blob/main/BostonHousePricing.ipynb\" target=\"_parent\"><img src=\"https://colab.research.google.com/assets/colab-badge.svg\" alt=\"Open In Colab\"/></a>"
      ]
    },
    {
      "cell_type": "code",
      "source": [
        "import pandas as pd\n",
        "import numpy as np\n",
        "import sklearn\n",
        "from sklearn import linear_model\n",
        "from sklearn.model_selection import train_test_split\n",
        "from sklearn.datasets import load_boston\n",
        "from sklearn.metrics import mean_squared_error"
      ],
      "metadata": {
        "id": "HOHVuDC8jJ2z"
      },
      "execution_count": null,
      "outputs": []
    },
    {
      "cell_type": "code",
      "source": [
        "def rmse(predictions, targets):\n",
        "    return np.sqrt(((predictions - targets) ** 2).mean())"
      ],
      "metadata": {
        "id": "0M4bjfuczmgu"
      },
      "execution_count": null,
      "outputs": []
    },
    {
      "cell_type": "code",
      "source": [
        "b = load_boston()\n",
        "print(b)\n",
        "df_x = pd.DataFrame(b.data, columns = b.feature_names)\n",
        "df_y = pd.DataFrame(b.target)\n",
        "df_x.describe()\n"
      ],
      "metadata": {
        "id": "87Oh42oPqiA0"
      },
      "execution_count": null,
      "outputs": []
    },
    {
      "cell_type": "code",
      "source": [
        "m_reg = linear_model.LinearRegression()\n",
        "x_train, x_test, y_train, y_test = train_test_split(df_x, df_y, test_size=0.333, random_state = 45)\n",
        "m_reg.fit(x_train,y_train)"
      ],
      "metadata": {
        "id": "RPp-qlVytTQx"
      },
      "execution_count": null,
      "outputs": []
    },
    {
      "cell_type": "code",
      "source": [
        "y_train_pred = m_reg.predict(x_train)\n",
        "RMSE = (np.sqrt(mean_squared_error(y_train, y_train_pred)))\n",
        "print(\"RMSE is {}\".format(RMSE))\n"
      ],
      "metadata": {
        "colab": {
          "base_uri": "https://localhost:8080/"
        },
        "id": "g2om-XNttVOO",
        "outputId": "04e897bf-d201-4311-f44b-7c3a6f725f9e"
      },
      "execution_count": null,
      "outputs": [
        {
          "output_type": "stream",
          "name": "stdout",
          "text": [
            "RMSE is 4.664587432180187\n"
          ]
        }
      ]
    },
    {
      "cell_type": "code",
      "source": [
        "y_test_pred = m_reg.predict(x_test)\n",
        "RMSE1 = (np.sqrt(mean_squared_error(y_test, y_test_pred)))\n",
        "print(\"RMSE is {}\".format(RMSE1))"
      ],
      "metadata": {
        "colab": {
          "base_uri": "https://localhost:8080/"
        },
        "id": "M0tql3d6v5tr",
        "outputId": "6b491cd3-cda0-4a07-acfc-b83dc3c36743"
      },
      "execution_count": null,
      "outputs": [
        {
          "output_type": "stream",
          "name": "stdout",
          "text": [
            "RMSE is 4.782227945060704\n"
          ]
        }
      ]
    }
  ]
}